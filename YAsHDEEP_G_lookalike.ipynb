{
  "nbformat": 4,
  "nbformat_minor": 0,
  "metadata": {
    "colab": {
      "provenance": [],
      "authorship_tag": "ABX9TyOsm0gnXri6DS3ZQgMQpXNg",
      "include_colab_link": true
    },
    "kernelspec": {
      "name": "python3",
      "display_name": "Python 3"
    },
    "language_info": {
      "name": "python"
    }
  },
  "cells": [
    {
      "cell_type": "markdown",
      "metadata": {
        "id": "view-in-github",
        "colab_type": "text"
      },
      "source": [
        "<a href=\"https://colab.research.google.com/github/YAsH12377777/YAsHDEEP/blob/main/YAsHDEEP_G_lookalike.ipynb\" target=\"_parent\"><img src=\"https://colab.research.google.com/assets/colab-badge.svg\" alt=\"Open In Colab\"/></a>"
      ]
    },
    {
      "cell_type": "code",
      "execution_count": 3,
      "metadata": {
        "colab": {
          "base_uri": "https://localhost:8080/"
        },
        "id": "y5nqQMLMBmt9",
        "outputId": "dff67844-b1fa-496f-be58-1835272e5979"
      },
      "outputs": [
        {
          "output_type": "stream",
          "name": "stdout",
          "text": [
            "Lookalike.csv has been generated.\n"
          ]
        }
      ],
      "source": [
        "import pandas as pd\n",
        "import numpy as np\n",
        "from sklearn.metrics.pairwise import cosine_similarity\n",
        "from sklearn.preprocessing import StandardScaler, OneHotEncoder\n",
        "from sklearn.compose import ColumnTransformer\n",
        "from sklearn.pipeline import Pipeline\n",
        "from sklearn.impute import SimpleImputer\n",
        "\n",
        "# Load datasets\n",
        "customers = pd.read_csv('Customers.csv')\n",
        "products = pd.read_csv('Products.csv')\n",
        "transactions = pd.read_csv('Transactions.csv')\n",
        "\n",
        "# Data Preparation\n",
        "# Merge datasets to create a comprehensive view\n",
        "merged_data = transactions.merge(customers, on='CustomerID').merge(products, on='ProductID')\n",
        "\n",
        "# Aggregate transaction data to create customer profiles\n",
        "customer_profiles = merged_data.groupby('CustomerID').agg({\n",
        "    'TotalValue': 'sum',           # Total spending\n",
        "    'TransactionID': 'count',      # Number of transactions\n",
        "    'Category': lambda x: ','.join(x),  # Concatenate purchased categories\n",
        "    'Region': 'first',             # Region info\n",
        "}).reset_index()\n",
        "\n",
        "# Function to split categories and get dummies\n",
        "def get_category_dummies(df):\n",
        "    category_dummies = df['Category'].str.get_dummies(sep=',')\n",
        "    df = pd.concat([df, category_dummies], axis=1)\n",
        "    return df.drop(columns=['Category'])\n",
        "\n",
        "# Apply the function to customer_profiles\n",
        "customer_profiles = get_category_dummies(customer_profiles)\n",
        "\n",
        "# Preprocessing pipeline\n",
        "numeric_features = ['TotalValue', 'TransactionID']\n",
        "categorical_features = [col for col in customer_profiles.columns if col not in ['CustomerID', 'TotalValue', 'TransactionID', 'Region']]\n",
        "\n",
        "# Create transformers for both numeric and categorical data\n",
        "numeric_transformer = Pipeline(steps=[\n",
        "    ('imputer', SimpleImputer(strategy='mean')),\n",
        "    ('scaler', StandardScaler())\n",
        "])\n",
        "\n",
        "categorical_transformer = Pipeline(steps=[\n",
        "    ('imputer', SimpleImputer(strategy='most_frequent')),\n",
        "    ('onehot', OneHotEncoder(sparse_output=False, handle_unknown='ignore'))\n",
        "])\n",
        "\n",
        "# Define a column transformer\n",
        "preprocessor = ColumnTransformer(\n",
        "    transformers=[\n",
        "        ('num', numeric_transformer, numeric_features),\n",
        "        ('cat', categorical_transformer, categorical_features)\n",
        "    ])\n",
        "\n",
        "# Apply preprocessing pipeline\n",
        "processed_data = preprocessor.fit_transform(customer_profiles.drop(columns=['CustomerID', 'Region']))\n",
        "\n",
        "# Compute Similarity Matrix\n",
        "similarity_matrix = cosine_similarity(processed_data)\n",
        "\n",
        "# Function to recommend top 3 similar customers\n",
        "def recommend_similar(customers_list, similarity_matrix, customer_ids):\n",
        "    recommendations = {}\n",
        "    for cust_id in customers_list:\n",
        "        idx = customer_ids.index(cust_id)\n",
        "        # Get similarity scores and sort them\n",
        "        similar_scores = list(enumerate(similarity_matrix[idx]))\n",
        "        similar_scores = sorted(similar_scores, key=lambda x: x[1], reverse=True)\n",
        "        # Exclude self and take top 3 similar customers\n",
        "        top_3 = [(customer_ids[i], score) for i, score in similar_scores[1:4]]\n",
        "        recommendations[cust_id] = top_3\n",
        "    return recommendations\n",
        "\n",
        "# Get recommendations for first 20 customers\n",
        "customer_ids = customer_profiles['CustomerID'].tolist()\n",
        "recommendations = recommend_similar(customer_ids[:20], similarity_matrix, customer_ids)\n",
        "\n",
        "# Create \"Lookalike.csv\"\n",
        "lookalike_data = []\n",
        "for cust_id, similar_customers in recommendations.items():\n",
        "    for similar_cust_id, score in similar_customers:\n",
        "        lookalike_data.append([cust_id, similar_cust_id, score])\n",
        "\n",
        "lookalike_df = pd.DataFrame(lookalike_data, columns=['CustomerID', 'SimilarCustomerID', 'SimilarityScore'])\n",
        "lookalike_df.to_csv('Lookalike.csv', index=False)\n",
        "\n",
        "print(\"Lookalike.csv has been generated.\")"
      ]
    }
  ]
}